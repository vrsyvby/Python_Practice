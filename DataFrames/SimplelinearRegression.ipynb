{
 "cells": [
  {
   "cell_type": "code",
   "execution_count": 1,
   "id": "47973fbc",
   "metadata": {},
   "outputs": [
    {
     "name": "stdout",
     "output_type": "stream",
     "text": [
      "Requirement already satisfied: scikit-learn in /opt/anaconda3/lib/python3.12/site-packages (1.3.0)\n",
      "Requirement already satisfied: numpy>=1.17.3 in /opt/anaconda3/lib/python3.12/site-packages (from scikit-learn) (1.26.4)\n",
      "Requirement already satisfied: scipy>=1.5.0 in /opt/anaconda3/lib/python3.12/site-packages (from scikit-learn) (1.13.1)\n",
      "Requirement already satisfied: joblib>=1.1.1 in /opt/anaconda3/lib/python3.12/site-packages (from scikit-learn) (1.4.2)\n",
      "Requirement already satisfied: threadpoolctl>=2.0.0 in /opt/anaconda3/lib/python3.12/site-packages (from scikit-learn) (3.5.0)\n",
      "Note: you may need to restart the kernel to use updated packages.\n"
     ]
    }
   ],
   "source": [
    "import pandas as pd\n",
    "# If you need to use scikit-learn, import it as follows:\n",
    "# from sklearn import datasets, model_selection, etc.\n",
    "%pip install scikit-learn\n",
    "from sklearn.linear_model import LinearRegression"
   ]
  },
  {
   "cell_type": "code",
   "execution_count": 2,
   "id": "0dc3d6c2",
   "metadata": {},
   "outputs": [],
   "source": [
    "df = pd.read_csv(\"/Users/naginilandarhi/DSAICourse/Prof_JD/usedcarsales.csv\")"
   ]
  },
  {
   "cell_type": "code",
   "execution_count": 3,
   "id": "19c79e9e",
   "metadata": {},
   "outputs": [],
   "source": [
    "predictors = ['Odometer Reading']\n",
    "outcome = ['Price']\n",
    "df = df.dropna(subset=predictors)  # Ensure no NaN values in predictors\n",
    "df = df.dropna(subset=outcome)  # Ensure no NaN values in outcome"
   ]
  },
  {
   "cell_type": "code",
   "execution_count": 4,
   "id": "3c57c4cd",
   "metadata": {},
   "outputs": [
    {
     "name": "stdout",
     "output_type": "stream",
     "text": [
      "Model Coefficients:  [[-0.267]]\n",
      "Model Intercept:  [56.205]\n",
      "R squared:  0.798\n",
      "Significance of predictors:  Not available for LinearRegression\n",
      "Model Summary:  Not available for LinearRegression\n",
      "Significance of F:  Not available for LinearRegression\n",
      "Standard Error:  Not available for LinearRegression\n"
     ]
    }
   ],
   "source": [
    "model = LinearRegression()\n",
    "model.fit(df[predictors], df[outcome])\n",
    "\n",
    "# Print model coefficients and intercept with 3 decimal places\n",
    "print(\"Model Coefficients: \", model.coef_.round(3))\n",
    "print(\"Model Intercept: \", model.intercept_.round(3))\n",
    "print(\"R squared: \", model.score(df[predictors], df[outcome]).round(3))\n",
    "print(\"Significance of predictors: \", model.pvalues.round(3) if hasattr(model, 'pvalues') else \"Not available for LinearRegression\")\n",
    "print(\"Model Summary: \", model.summary() if hasattr(model, 'summary') else \"Not available for LinearRegression\")\n",
    "print(\"Significance of F: \", model.fvalue.round(3) if hasattr(model, 'fvalue') else \"Not available for LinearRegression\")\n",
    "print(\"Standard Error: \", model.bse.round(3) if hasattr(model, 'bse') else \"Not available for LinearRegression\")"
   ]
  },
  {
   "cell_type": "code",
   "execution_count": 5,
   "id": "677390bc",
   "metadata": {},
   "outputs": [
    {
     "name": "stdout",
     "output_type": "stream",
     "text": [
      "                            OLS Regression Results                            \n",
      "==============================================================================\n",
      "Dep. Variable:                  Price   R-squared:                       0.798\n",
      "Model:                            OLS   Adj. R-squared:                  0.773\n",
      "Method:                 Least Squares   F-statistic:                     31.64\n",
      "Date:                Mon, 21 Jul 2025   Prob (F-statistic):           0.000496\n",
      "Time:                        22:25:10   Log-Likelihood:                -20.859\n",
      "No. Observations:                  10   AIC:                             45.72\n",
      "Df Residuals:                       8   BIC:                             46.32\n",
      "Df Model:                           1                                         \n",
      "Covariance Type:            nonrobust                                         \n",
      "====================================================================================\n",
      "                       coef    std err          t      P>|t|      [0.025      0.975]\n",
      "------------------------------------------------------------------------------------\n",
      "const               56.2047      3.535     15.899      0.000      48.053      64.357\n",
      "Odometer Reading    -0.2668      0.047     -5.625      0.000      -0.376      -0.157\n",
      "==============================================================================\n",
      "Omnibus:                        0.236   Durbin-Watson:                   1.313\n",
      "Prob(Omnibus):                  0.889   Jarque-Bera (JB):                0.395\n",
      "Skew:                          -0.034   Prob(JB):                        0.821\n",
      "Kurtosis:                       2.029   Cond. No.                         383.\n",
      "==============================================================================\n",
      "\n",
      "Notes:\n",
      "[1] Standard Errors assume that the covariance matrix of the errors is correctly specified.\n"
     ]
    },
    {
     "name": "stderr",
     "output_type": "stream",
     "text": [
      "/opt/anaconda3/lib/python3.12/site-packages/scipy/stats/_axis_nan_policy.py:531: UserWarning: kurtosistest only valid for n>=20 ... continuing anyway, n=10\n",
      "  res = hypotest_fun_out(*samples, **kwds)\n"
     ]
    }
   ],
   "source": [
    "import statsmodels.api as sm\n",
    "\n",
    "X = df[predictors]\n",
    "y = df[outcome]\n",
    "\n",
    "X = sm.add_constant(X)  # Adds intercept term\n",
    "model = sm.OLS(y, X).fit()\n",
    "\n",
    "print(model.summary())"
   ]
  }
 ],
 "metadata": {
  "kernelspec": {
   "display_name": "base",
   "language": "python",
   "name": "python3"
  },
  "language_info": {
   "codemirror_mode": {
    "name": "ipython",
    "version": 3
   },
   "file_extension": ".py",
   "mimetype": "text/x-python",
   "name": "python",
   "nbconvert_exporter": "python",
   "pygments_lexer": "ipython3",
   "version": "3.12.7"
  }
 },
 "nbformat": 4,
 "nbformat_minor": 5
}
